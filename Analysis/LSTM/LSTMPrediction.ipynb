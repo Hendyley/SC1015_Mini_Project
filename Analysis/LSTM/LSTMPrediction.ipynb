{
 "cells": [
  {
   "cell_type": "code",
   "execution_count": 41,
   "metadata": {
    "collapsed": true,
    "pycharm": {
     "name": "#%%\n"
    }
   },
   "outputs": [],
   "source": [
    "#Pre-requisition\n",
    "#!python -m pip install keras\n",
    "#!python -m pip install --upgrade tensorflow\n",
    "\n",
    "import pandas as pd\n",
    "import numpy as np\n",
    "import datetime as dt\n",
    "import seaborn as sb\n",
    "sb.set()\n",
    "\n",
    "from matplotlib import pyplot as plt\n",
    "from sklearn.preprocessing import MinMaxScaler\n",
    "from keras.models import Sequential\n",
    "from keras.layers import LSTM\n",
    "from keras.layers import Dense\n",
    "from keras.layers import Dropout\n",
    "\n",
    "import warnings\n",
    "warnings.filterwarnings('ignore')"
   ]
  },
  {
   "cell_type": "code",
   "execution_count": 42,
   "outputs": [],
   "source": [
    "train = pd.read_csv(\"../../Data/AAPLTrain.csv\",parse_dates=['Date'],index_col=['Date'])\n",
    "test = pd.read_csv(\"../../Data/AAPLTest.csv\",parse_dates=['Date'],index_col=['Date'])"
   ],
   "metadata": {
    "collapsed": false,
    "pycharm": {
     "name": "#%%\n"
    }
   }
  },
  {
   "cell_type": "markdown",
   "source": [
    "# Data Preparation of LSTM\n",
    "\n",
    "In order for the data to be fitted into LSTM, it requires certain transformation of a 2D array into 3D input.\n",
    "\n",
    "First, a transformation of the data to be consolidated into the range of 0 to 1, where it is easier to estimate the price.\n",
    "\n",
    "Afterwards, by consolidating the price into a months worth, it reduces the chances of false positive in fluctuation, allowing better learning within the network."
   ],
   "metadata": {
    "collapsed": false,
    "pycharm": {
     "name": "#%% md\n"
    }
   }
  },
  {
   "cell_type": "code",
   "execution_count": 43,
   "outputs": [],
   "source": [
    "train = train.loc[lambda x : x.index > dt.datetime(2012,12,31)]\n",
    "train = train.reset_index()['Adj Close']\n",
    "scaler = MinMaxScaler(feature_range=(0,1))\n",
    "df_train = scaler.fit_transform(np.array(train).reshape(-1,1))"
   ],
   "metadata": {
    "collapsed": false,
    "pycharm": {
     "name": "#%%\n"
    }
   }
  },
  {
   "cell_type": "code",
   "execution_count": 44,
   "outputs": [],
   "source": [
    "n_steps = 30;"
   ],
   "metadata": {
    "collapsed": false,
    "pycharm": {
     "name": "#%%\n"
    }
   }
  },
  {
   "cell_type": "code",
   "execution_count": 45,
   "outputs": [],
   "source": [
    "def create_dataset(dataset,time_step=1):\n",
    "    dataX, dataY = [],[]\n",
    "    for i in range(len(dataset)-time_step):\n",
    "        a = dataset[i:(i+time_step),0]\n",
    "        dataX.append(a)\n",
    "        dataY.append(dataset[i+time_step,0])\n",
    "    return np.array(dataX), np.array(dataY)"
   ],
   "metadata": {
    "collapsed": false,
    "pycharm": {
     "name": "#%%\n"
    }
   }
  },
  {
   "cell_type": "code",
   "execution_count": 46,
   "outputs": [],
   "source": [
    "x_train, y_train = create_dataset(df_train,n_steps)"
   ],
   "metadata": {
    "collapsed": false,
    "pycharm": {
     "name": "#%%\n"
    }
   }
  },
  {
   "cell_type": "code",
   "execution_count": 47,
   "outputs": [],
   "source": [
    "x_train = x_train.reshape(x_train.shape[0],x_train.shape[1],1)"
   ],
   "metadata": {
    "collapsed": false,
    "pycharm": {
     "name": "#%%\n"
    }
   }
  },
  {
   "cell_type": "markdown",
   "source": [
    "# LSTM\n",
    "Long Short-Term Memory is a type of recurrent neural network (**RNN**) used to learn long-term dependencies.\n",
    "Within the network, working similarly to memory blocks that are connected through layers. It will throw away irrelevant information, retaining vital information through training. <br/>\n",
    "\n",
    "## Stacked LSTM\n",
    "\n",
    "A variant of LSTM, using multiple hidden LSTM layers stacked on top of one another, making it deeper recombining the learned representation from previous layers and create new representation at high levels of abstraction.\n",
    "\n",
    "Eg of Stacked LSTM: Lines --> Shapes --> Objects\n",
    "\n",
    "By adding layers within layers of LSTM, a more complex feature representation of current input will be created. By increasing the depth, it allows for a better understanding for the movement of the price."
   ],
   "metadata": {
    "collapsed": false,
    "pycharm": {
     "name": "#%% md\n"
    }
   }
  },
  {
   "cell_type": "code",
   "execution_count": 48,
   "outputs": [],
   "source": [
    "model = Sequential()\n",
    "model.add(LSTM(50,return_sequences=True, activation='relu',input_shape=(n_steps,1)))\n",
    "model.add(Dropout(0.2))\n",
    "model.add(LSTM(50,return_sequences=True))\n",
    "model.add(Dropout(0.2))\n",
    "model.add(Dense(1))\n",
    "model.compile(optimizer='adam',loss='mse')"
   ],
   "metadata": {
    "collapsed": false,
    "pycharm": {
     "name": "#%%\n"
    }
   }
  },
  {
   "cell_type": "code",
   "execution_count": 49,
   "outputs": [],
   "source": [
    "history = model.fit(x_train,y_train, epochs=50,validation_data=(x_train,y_train),shuffle=False,verbose=False)"
   ],
   "metadata": {
    "collapsed": false,
    "pycharm": {
     "name": "#%%\n"
    }
   }
  },
  {
   "cell_type": "markdown",
   "source": [
    "# Rolling Prediction\n",
    "\n",
    "As the LSTM is able to forecast one prediction from the training dataset, the network can predict continuously by rolling forward the prediction. Thus, creating a rolling prediction estimating the price."
   ],
   "metadata": {
    "collapsed": false,
    "pycharm": {
     "name": "#%% md\n"
    }
   }
  },
  {
   "cell_type": "code",
   "execution_count": 50,
   "outputs": [],
   "source": [
    "prediction_list = []\n",
    "last_x = x_train[-1]\n",
    "while len(prediction_list) < len(test):\n",
    "    p = model.predict(last_x.reshape(1,n_steps,1))[0,0]\n",
    "\n",
    "    prediction_list.append(p)\n",
    "    last_x = np.roll(last_x,-1)\n",
    "    last_x[-1] = p\n",
    "\n",
    "prediction_list = scaler.inverse_transform(prediction_list)\n",
    "test['Prediction'] = prediction_list"
   ],
   "metadata": {
    "collapsed": false,
    "pycharm": {
     "name": "#%%\n"
    }
   }
  },
  {
   "cell_type": "code",
   "execution_count": 51,
   "outputs": [
    {
     "data": {
      "text/plain": "<matplotlib.legend.Legend at 0x2cbfdcff190>"
     },
     "execution_count": 51,
     "metadata": {},
     "output_type": "execute_result"
    },
    {
     "data": {
      "text/plain": "<Figure size 1296x360 with 1 Axes>",
      "image/png": "[encoded data removed]"
     },
     "metadata": {},
     "output_type": "display_data"
    }
   ],
   "source": [
    "fig = plt.figure(figsize=(18,5))\n",
    "plt.plot(test['Adj Close'], color=\"blue\",label=\"Actual Values\")\n",
    "plt.plot(test['Prediction'], color=\"orange\",label=\"Predicted Value using LSTM\")\n",
    "plt.title(\"Stock Price Prediction\")\n",
    "plt.legend()"
   ],
   "metadata": {
    "collapsed": false,
    "pycharm": {
     "name": "#%%\n"
    }
   }
  },
  {
   "cell_type": "markdown",
   "source": [
    "## Prediction\n",
    "\n",
    "Although the prediction is not very accurate, it is able to give a rough estimation certain range.\n",
    " The approach that we have used maybe naive and not best suited, hence by combining with other tools, it can enhance the accuracy of the prediction."
   ],
   "metadata": {
    "collapsed": false,
    "pycharm": {
     "name": "#%% md\n"
    }
   }
  }
 ],
 "metadata": {
  "kernelspec": {
   "display_name": "Python 3",
   "language": "python",
   "name": "python3"
  },
  "language_info": {
   "codemirror_mode": {
    "name": "ipython",
    "version": 2
   },
   "file_extension": ".py",
   "mimetype": "text/x-python",
   "name": "python",
   "nbconvert_exporter": "python",
   "pygments_lexer": "ipython2",
   "version": "2.7.6"
  }
 },
 "nbformat": 4,
 "nbformat_minor": 0
}