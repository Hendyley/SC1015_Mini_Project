{
 "cells": [
  {
   "cell_type": "code",
   "execution_count": 85,
   "metadata": {
    "collapsed": true
   },
   "outputs": [],
   "source": [
    "import pandas as pd\n",
    "import numpy as np\n",
    "import datetime as dt\n",
    "import json\n",
    "import time\n",
    "\n",
    "\n",
    "import requests\n",
    "import seaborn as sb\n",
    "sb.set()"
   ]
  },
  {
   "cell_type": "code",
   "execution_count": 95,
   "outputs": [],
   "source": [
    "def importData(data=None,method=True, url=None, query=None, header=None, timeout=30):\n",
    "    if header is None:\n",
    "        header = {}\n",
    "    if query is None:\n",
    "        query = {}\n",
    "    if url is None:\n",
    "        url = \"\"\n",
    "    if method and data is not None:\n",
    "       return pd.read_csv(f'{data}',parse_dates=['Date'],index_col=['Date'],dayfirst=True)\n",
    "    else:\n",
    "        response = requests.request(\"GET\",url=url,headers=header,params=query)\n",
    "        timer = 0\n",
    "        while response.status_code == 204:\n",
    "            time.sleep(10)\n",
    "            if timer > timeout:\n",
    "                break\n",
    "        return json.loads(response.text)\n",
    "\n",
    "def exportDataToCSV(location,data):\n",
    "    data = data.reset_index()\n",
    "    data.to_csv(location,index=False)\n",
    "\n",
    "def calcReturn(data,date=dt.datetime(2013,1,3)):\n",
    "    if data.index[0] < date:\n",
    "        data['Rtx'] = data['Adj Close'].pct_change(1).mul(100)\n",
    "    return data"
   ],
   "metadata": {
    "collapsed": false,
    "pycharm": {
     "name": "#%%\n"
    }
   }
  },
  {
   "cell_type": "code",
   "execution_count": 96,
   "outputs": [],
   "source": [
    "def create_dataset(dataset,time_step=1):\n",
    "    dataX, dataY = [],[]\n",
    "    for i in range(len(dataset)-time_step):\n",
    "        a = dataset[i:(i+time_step),0]\n",
    "        dataX.append(a)\n",
    "        dataY.append(dataset[i+time_step,0])\n",
    "    return np.array(dataX), np.array(dataY)"
   ],
   "metadata": {
    "collapsed": false,
    "pycharm": {
     "name": "#%%\n"
    }
   }
  }
 ],
 "metadata": {
  "kernelspec": {
   "display_name": "Python 3",
   "language": "python",
   "name": "python3"
  },
  "language_info": {
   "codemirror_mode": {
    "name": "ipython",
    "version": 2
   },
   "file_extension": ".py",
   "mimetype": "text/x-python",
   "name": "python",
   "nbconvert_exporter": "python",
   "pygments_lexer": "ipython2",
   "version": "2.7.6"
  }
 },
 "nbformat": 4,
 "nbformat_minor": 0
}